{
 "cells": [
  {
   "cell_type": "code",
   "execution_count": 32,
   "id": "7e19f6b3-33ac-4ae4-a79f-d39ab3ae9bd1",
   "metadata": {},
   "outputs": [
    {
     "name": "stdout",
     "output_type": "stream",
     "text": [
      "['[', 'Moby', 'Dick', 'by', 'Herman', 'Melville', '1851', ']', 'ETYMOLOGY', '.', '(', 'Supplied', 'by', 'a', 'Late', 'Consumptive', 'Usher', 'to', 'a', 'Grammar', 'School', ')', 'The', 'pale', 'Usher', '--', 'threadbare', 'in', 'coat', ',', 'heart', ',', 'body', ',', 'and', 'brain', ';', 'I', 'see', 'him', 'now', '.', 'He', 'was', 'ever', 'dusting', 'his', 'old', 'lexicons', 'and']\n"
     ]
    }
   ],
   "source": [
    "from nltk.corpus import gutenberg\n",
    "from nltk.text import Text\n",
    "gutenberg.fileids()\n",
    "corpus = gutenberg.words('melville-moby_dick.txt')\n",
    "print(corpus[0:50])"
   ]
  },
  {
   "cell_type": "code",
   "execution_count": 40,
   "id": "9cdacb2b-855d-4df9-856b-bbf20fc40103",
   "metadata": {},
   "outputs": [
    {
     "name": "stdout",
     "output_type": "stream",
     "text": [
      "Displaying 11 of 11 matches:\n",
      "ong the former , one was of a most monstrous size . ... This came towards us , \n",
      "ON OF THE PSALMS . \" Touching that monstrous bulk of the whale or ork we have r\n",
      "ll over with a heathenish array of monstrous clubs and spears . Some were thick\n",
      "d as you gazed , and wondered what monstrous cannibal and savage could ever hav\n",
      "that has survived the flood ; most monstrous and most mountainous ! That Himmal\n",
      "they might scout at Moby Dick as a monstrous fable , or still worse and more de\n",
      "th of Radney .'\" CHAPTER 55 Of the Monstrous Pictures of Whales . I shall ere l\n",
      "ing Scenes . In connexion with the monstrous pictures of whales , I am strongly\n",
      "ere to enter upon those still more monstrous stories of them which are to be fo\n",
      "ght have been rummaged out of this monstrous cabinet there is no telling . But \n",
      "of Whale - Bones ; for Whales of a monstrous size are oftentimes cast up dead u\n"
     ]
    }
   ],
   "source": [
    "text = Text(corpus)\n",
    "text.concordance('monstrous')"
   ]
  },
  {
   "cell_type": "code",
   "execution_count": 34,
   "id": "76c59c34-eeef-42f1-bb56-cc8967b1d672",
   "metadata": {},
   "outputs": [
    {
     "name": "stdout",
     "output_type": "stream",
     "text": [
      "['Aviation_Engines_Victor_Wilfred_Page.txt', 'The_Wright_Brothers_Engines_and_Their_Designs.txt']\n",
      "['The', 'Project', 'Gutenberg', 'eBook', ',', 'Aviation', 'Engines', ',', 'by', 'Victor', 'Wilfred', 'Pagé', 'This', 'eBook', 'is', 'for', 'the', 'use', 'of', 'anyone', 'anywhere', 'at', 'no', 'cost', 'and', 'with', 'almost', 'no', 'restrictions', 'whatsoever', '.', 'You', 'may', 'copy', 'it', ',', 'give', 'it', 'away', 'or', 're', '-', 'use', 'it', 'under', 'the', 'terms', 'of', 'the', 'Project']\n"
     ]
    }
   ],
   "source": [
    "from nltk.corpus import PlaintextCorpusReader\n",
    "corpus_root = '../data_mining_aero_eng/gutenberg/'\n",
    "file = 'Aviation_Engines_Victor_Wilfred_Page.txt'\n",
    "filelists = PlaintextCorpusReader(corpus_root, '.*')\n",
    "print(filelists.fileids())\n",
    "sample_word_list = filelists.words(file)\n",
    "print(sample_word_list[0:50])"
   ]
  },
  {
   "cell_type": "code",
   "execution_count": 45,
   "id": "91e83e6f-05f7-4d38-8f22-b71fd58977f6",
   "metadata": {},
   "outputs": [
    {
     "name": "stdout",
     "output_type": "stream",
     "text": [
      "Displaying 13 of 13 matches:\n",
      " system and a \" dual \" ignition system ? Name parts of an induction coil . How \n",
      " induction coil . How are valves timed ? What is an electric motor starter and \n",
      "ric motor starter and how does it work ? What are advantages of worm drive gear\n",
      "t are advantages of worm drive gearing ? Name all important types of ball and r\n",
      "is a \" three - quarter \" floating axle ? What is a two - speed axle ? What is t\n",
      "ting axle ? What is a two - speed axle ? What is the Vulcan electric gear shift\n",
      "What is the Vulcan electric gear shift ? Name the causes of lost power in autom\n",
      " to deranged mechanism and give causes ? How can you adjust a carburetor by the\n",
      "etor by the color of the exhaust gases ? What causes \" popping \" in the carbure\n",
      "t causes \" popping \" in the carburetor ? What tools and supplies are needed to \n",
      "and supplies are needed to equip a car ? How do you drive various makes of cars\n",
      "How do you drive various makes of cars ? What is a differential lock and where \n",
      "differential lock and where is it used ? Name different systems of wire wheel c\n"
     ]
    }
   ],
   "source": [
    "sample_text = Text(sample_word_list)\n",
    "term = \"?\"\n",
    "sample_text.concordance(term)\n",
    "concordance_list = sample_text.concordance_list(term)"
   ]
  },
  {
   "cell_type": "code",
   "execution_count": null,
   "id": "843abdcd-1de4-41f2-b6e8-9c82badb8831",
   "metadata": {},
   "outputs": [],
   "source": []
  }
 ],
 "metadata": {
  "kernelspec": {
   "display_name": "Python 3 (ipykernel)",
   "language": "python",
   "name": "python3"
  },
  "language_info": {
   "codemirror_mode": {
    "name": "ipython",
    "version": 3
   },
   "file_extension": ".py",
   "mimetype": "text/x-python",
   "name": "python",
   "nbconvert_exporter": "python",
   "pygments_lexer": "ipython3",
   "version": "3.11.1"
  }
 },
 "nbformat": 4,
 "nbformat_minor": 5
}
