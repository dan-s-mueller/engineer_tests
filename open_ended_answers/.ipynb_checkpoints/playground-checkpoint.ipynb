{
 "cells": [
  {
   "cell_type": "code",
   "execution_count": 17,
   "id": "7e19f6b3-33ac-4ae4-a79f-d39ab3ae9bd1",
   "metadata": {},
   "outputs": [
    {
     "name": "stdout",
     "output_type": "stream",
     "text": [
      "['[', 'Moby', 'Dick', 'by', 'Herman', 'Melville', '1851', ']', 'ETYMOLOGY', '.']\n"
     ]
    }
   ],
   "source": [
    "from nltk.corpus import gutenberg\n",
    "from nltk.text import Text\n",
    "gutenberg.fileids()\n",
    "corpus = gutenberg.words('melville-moby_dick.txt')\n",
    "print(corpus[0:10])"
   ]
  },
  {
   "cell_type": "code",
   "execution_count": 16,
   "id": "9cdacb2b-855d-4df9-856b-bbf20fc40103",
   "metadata": {},
   "outputs": [
    {
     "name": "stdout",
     "output_type": "stream",
     "text": [
      "['[', 'Moby', 'Dick', 'by', 'Herman', 'Melville', '1851', ']', 'ETYMOLOGY', '.']\n"
     ]
    }
   ],
   "source": [
    "text = Text(corpus)\n",
    "print(text[0:10])"
   ]
  },
  {
   "cell_type": "code",
   "execution_count": 29,
   "id": "76c59c34-eeef-42f1-bb56-cc8967b1d672",
   "metadata": {},
   "outputs": [],
   "source": [
    "from nltk.corpus import PlaintextCorpusReader\n",
    "corpus_root = '../data_mining_aero_eng/gutenberg/'\n",
    "file = 'Aviation_Engines_Victor_Wilfred_Page.txt'\n",
    "filelists = PlaintextCorpusReader(corpus_root, '.*')\n",
    "print(filelists.fileids())\n",
    "sample_word_list = filelists.words(file)\n",
    "print(sample_word_list[0:10])"
   ]
  },
  {
   "cell_type": "code",
   "execution_count": null,
   "id": "91e83e6f-05f7-4d38-8f22-b71fd58977f6",
   "metadata": {},
   "outputs": [],
   "source": []
  }
 ],
 "metadata": {
  "kernelspec": {
   "display_name": "Python 3 (ipykernel)",
   "language": "python",
   "name": "python3"
  },
  "language_info": {
   "codemirror_mode": {
    "name": "ipython",
    "version": 3
   },
   "file_extension": ".py",
   "mimetype": "text/x-python",
   "name": "python",
   "nbconvert_exporter": "python",
   "pygments_lexer": "ipython3",
   "version": "3.11.1"
  }
 },
 "nbformat": 4,
 "nbformat_minor": 5
}
